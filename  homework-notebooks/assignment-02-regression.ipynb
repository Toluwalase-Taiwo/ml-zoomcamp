{
 "cells": [
  {
   "cell_type": "code",
   "execution_count": 1,
   "id": "0d8b4c7c-008d-4294-9f09-62b946791ae2",
   "metadata": {},
   "outputs": [],
   "source": [
    "#importing necessary libraries\n",
    "import pandas as pd\n",
    "import numpy as np\n",
    "import matplotlib.pyplot as plt\n",
    "%matplotlib inline\n",
    "import seaborn as sns"
   ]
  },
  {
   "cell_type": "code",
   "execution_count": 2,
   "id": "6f832cca-1f64-4804-b3c6-ed08b7f50710",
   "metadata": {},
   "outputs": [
    {
     "data": {
      "text/html": [
       "<div>\n",
       "<style scoped>\n",
       "    .dataframe tbody tr th:only-of-type {\n",
       "        vertical-align: middle;\n",
       "    }\n",
       "\n",
       "    .dataframe tbody tr th {\n",
       "        vertical-align: top;\n",
       "    }\n",
       "\n",
       "    .dataframe thead th {\n",
       "        text-align: right;\n",
       "    }\n",
       "</style>\n",
       "<table border=\"1\" class=\"dataframe\">\n",
       "  <thead>\n",
       "    <tr style=\"text-align: right;\">\n",
       "      <th></th>\n",
       "      <th>Laptop</th>\n",
       "      <th>Status</th>\n",
       "      <th>Brand</th>\n",
       "      <th>Model</th>\n",
       "      <th>CPU</th>\n",
       "      <th>RAM</th>\n",
       "      <th>Storage</th>\n",
       "      <th>Storage type</th>\n",
       "      <th>GPU</th>\n",
       "      <th>Screen</th>\n",
       "      <th>Touch</th>\n",
       "      <th>Final Price</th>\n",
       "    </tr>\n",
       "  </thead>\n",
       "  <tbody>\n",
       "    <tr>\n",
       "      <th>0</th>\n",
       "      <td>ASUS ExpertBook B1 B1502CBA-EJ0436X Intel Core...</td>\n",
       "      <td>New</td>\n",
       "      <td>Asus</td>\n",
       "      <td>ExpertBook</td>\n",
       "      <td>Intel Core i5</td>\n",
       "      <td>8</td>\n",
       "      <td>512</td>\n",
       "      <td>SSD</td>\n",
       "      <td>NaN</td>\n",
       "      <td>15.6</td>\n",
       "      <td>No</td>\n",
       "      <td>1009.00</td>\n",
       "    </tr>\n",
       "    <tr>\n",
       "      <th>1</th>\n",
       "      <td>Alurin Go Start Intel Celeron N4020/8GB/256GB ...</td>\n",
       "      <td>New</td>\n",
       "      <td>Alurin</td>\n",
       "      <td>Go</td>\n",
       "      <td>Intel Celeron</td>\n",
       "      <td>8</td>\n",
       "      <td>256</td>\n",
       "      <td>SSD</td>\n",
       "      <td>NaN</td>\n",
       "      <td>15.6</td>\n",
       "      <td>No</td>\n",
       "      <td>299.00</td>\n",
       "    </tr>\n",
       "    <tr>\n",
       "      <th>2</th>\n",
       "      <td>ASUS ExpertBook B1 B1502CBA-EJ0424X Intel Core...</td>\n",
       "      <td>New</td>\n",
       "      <td>Asus</td>\n",
       "      <td>ExpertBook</td>\n",
       "      <td>Intel Core i3</td>\n",
       "      <td>8</td>\n",
       "      <td>256</td>\n",
       "      <td>SSD</td>\n",
       "      <td>NaN</td>\n",
       "      <td>15.6</td>\n",
       "      <td>No</td>\n",
       "      <td>789.00</td>\n",
       "    </tr>\n",
       "    <tr>\n",
       "      <th>3</th>\n",
       "      <td>MSI Katana GF66 12UC-082XES Intel Core i7-1270...</td>\n",
       "      <td>New</td>\n",
       "      <td>MSI</td>\n",
       "      <td>Katana</td>\n",
       "      <td>Intel Core i7</td>\n",
       "      <td>16</td>\n",
       "      <td>1000</td>\n",
       "      <td>SSD</td>\n",
       "      <td>RTX 3050</td>\n",
       "      <td>15.6</td>\n",
       "      <td>No</td>\n",
       "      <td>1199.00</td>\n",
       "    </tr>\n",
       "    <tr>\n",
       "      <th>4</th>\n",
       "      <td>HP 15S-FQ5085NS Intel Core i5-1235U/16GB/512GB...</td>\n",
       "      <td>New</td>\n",
       "      <td>HP</td>\n",
       "      <td>15S</td>\n",
       "      <td>Intel Core i5</td>\n",
       "      <td>16</td>\n",
       "      <td>512</td>\n",
       "      <td>SSD</td>\n",
       "      <td>NaN</td>\n",
       "      <td>15.6</td>\n",
       "      <td>No</td>\n",
       "      <td>669.01</td>\n",
       "    </tr>\n",
       "  </tbody>\n",
       "</table>\n",
       "</div>"
      ],
      "text/plain": [
       "                                              Laptop Status   Brand  \\\n",
       "0  ASUS ExpertBook B1 B1502CBA-EJ0436X Intel Core...    New    Asus   \n",
       "1  Alurin Go Start Intel Celeron N4020/8GB/256GB ...    New  Alurin   \n",
       "2  ASUS ExpertBook B1 B1502CBA-EJ0424X Intel Core...    New    Asus   \n",
       "3  MSI Katana GF66 12UC-082XES Intel Core i7-1270...    New     MSI   \n",
       "4  HP 15S-FQ5085NS Intel Core i5-1235U/16GB/512GB...    New      HP   \n",
       "\n",
       "        Model            CPU  RAM  Storage Storage type       GPU  Screen  \\\n",
       "0  ExpertBook  Intel Core i5    8      512          SSD       NaN    15.6   \n",
       "1          Go  Intel Celeron    8      256          SSD       NaN    15.6   \n",
       "2  ExpertBook  Intel Core i3    8      256          SSD       NaN    15.6   \n",
       "3      Katana  Intel Core i7   16     1000          SSD  RTX 3050    15.6   \n",
       "4         15S  Intel Core i5   16      512          SSD       NaN    15.6   \n",
       "\n",
       "  Touch  Final Price  \n",
       "0    No      1009.00  \n",
       "1    No       299.00  \n",
       "2    No       789.00  \n",
       "3    No      1199.00  \n",
       "4    No       669.01  "
      ]
     },
     "execution_count": 2,
     "metadata": {},
     "output_type": "execute_result"
    }
   ],
   "source": [
    "#loading the dataset\n",
    "\n",
    "df = pd.read_csv('Laptops Price.csv')\n",
    "df.head()"
   ]
  },
  {
   "cell_type": "markdown",
   "id": "b6e1cdab-7eae-48a5-b918-cdcf3a64a7f2",
   "metadata": {},
   "source": [
    "### Preparing the dataset \n",
    "\n",
    "First, we'll normalize the names of the columns:\n",
    "\n",
    "```python\n",
    "df.columns = df.columns.str.lower().str.replace(' ', '_')\n",
    "```\n",
    "\n",
    "Now, instead of `'Final Price'`, we have `'final_price'`.\n",
    "\n",
    "Next, use only the following columns:\n",
    "\n",
    "* `'ram'`,\n",
    "* `'storage'`,\n",
    "* `'screen'`,\n",
    "* `'final_price'`"
   ]
  },
  {
   "cell_type": "code",
   "execution_count": 3,
   "id": "31899277-9dbe-4b48-800e-eccca2053b9e",
   "metadata": {},
   "outputs": [],
   "source": [
    "df.columns = df.columns.str.lower().str.replace(' ', '_')"
   ]
  },
  {
   "cell_type": "code",
   "execution_count": 4,
   "id": "cfb9b1ea-afc2-4794-b8cf-5579d7ae876e",
   "metadata": {},
   "outputs": [
    {
     "data": {
      "text/html": [
       "<div>\n",
       "<style scoped>\n",
       "    .dataframe tbody tr th:only-of-type {\n",
       "        vertical-align: middle;\n",
       "    }\n",
       "\n",
       "    .dataframe tbody tr th {\n",
       "        vertical-align: top;\n",
       "    }\n",
       "\n",
       "    .dataframe thead th {\n",
       "        text-align: right;\n",
       "    }\n",
       "</style>\n",
       "<table border=\"1\" class=\"dataframe\">\n",
       "  <thead>\n",
       "    <tr style=\"text-align: right;\">\n",
       "      <th></th>\n",
       "      <th>laptop</th>\n",
       "      <th>status</th>\n",
       "      <th>brand</th>\n",
       "      <th>model</th>\n",
       "      <th>cpu</th>\n",
       "      <th>ram</th>\n",
       "      <th>storage</th>\n",
       "      <th>storage_type</th>\n",
       "      <th>gpu</th>\n",
       "      <th>screen</th>\n",
       "      <th>touch</th>\n",
       "      <th>final_price</th>\n",
       "    </tr>\n",
       "  </thead>\n",
       "  <tbody>\n",
       "    <tr>\n",
       "      <th>0</th>\n",
       "      <td>ASUS ExpertBook B1 B1502CBA-EJ0436X Intel Core...</td>\n",
       "      <td>New</td>\n",
       "      <td>Asus</td>\n",
       "      <td>ExpertBook</td>\n",
       "      <td>Intel Core i5</td>\n",
       "      <td>8</td>\n",
       "      <td>512</td>\n",
       "      <td>SSD</td>\n",
       "      <td>NaN</td>\n",
       "      <td>15.6</td>\n",
       "      <td>No</td>\n",
       "      <td>1009.00</td>\n",
       "    </tr>\n",
       "    <tr>\n",
       "      <th>1</th>\n",
       "      <td>Alurin Go Start Intel Celeron N4020/8GB/256GB ...</td>\n",
       "      <td>New</td>\n",
       "      <td>Alurin</td>\n",
       "      <td>Go</td>\n",
       "      <td>Intel Celeron</td>\n",
       "      <td>8</td>\n",
       "      <td>256</td>\n",
       "      <td>SSD</td>\n",
       "      <td>NaN</td>\n",
       "      <td>15.6</td>\n",
       "      <td>No</td>\n",
       "      <td>299.00</td>\n",
       "    </tr>\n",
       "    <tr>\n",
       "      <th>2</th>\n",
       "      <td>ASUS ExpertBook B1 B1502CBA-EJ0424X Intel Core...</td>\n",
       "      <td>New</td>\n",
       "      <td>Asus</td>\n",
       "      <td>ExpertBook</td>\n",
       "      <td>Intel Core i3</td>\n",
       "      <td>8</td>\n",
       "      <td>256</td>\n",
       "      <td>SSD</td>\n",
       "      <td>NaN</td>\n",
       "      <td>15.6</td>\n",
       "      <td>No</td>\n",
       "      <td>789.00</td>\n",
       "    </tr>\n",
       "    <tr>\n",
       "      <th>3</th>\n",
       "      <td>MSI Katana GF66 12UC-082XES Intel Core i7-1270...</td>\n",
       "      <td>New</td>\n",
       "      <td>MSI</td>\n",
       "      <td>Katana</td>\n",
       "      <td>Intel Core i7</td>\n",
       "      <td>16</td>\n",
       "      <td>1000</td>\n",
       "      <td>SSD</td>\n",
       "      <td>RTX 3050</td>\n",
       "      <td>15.6</td>\n",
       "      <td>No</td>\n",
       "      <td>1199.00</td>\n",
       "    </tr>\n",
       "    <tr>\n",
       "      <th>4</th>\n",
       "      <td>HP 15S-FQ5085NS Intel Core i5-1235U/16GB/512GB...</td>\n",
       "      <td>New</td>\n",
       "      <td>HP</td>\n",
       "      <td>15S</td>\n",
       "      <td>Intel Core i5</td>\n",
       "      <td>16</td>\n",
       "      <td>512</td>\n",
       "      <td>SSD</td>\n",
       "      <td>NaN</td>\n",
       "      <td>15.6</td>\n",
       "      <td>No</td>\n",
       "      <td>669.01</td>\n",
       "    </tr>\n",
       "  </tbody>\n",
       "</table>\n",
       "</div>"
      ],
      "text/plain": [
       "                                              laptop status   brand  \\\n",
       "0  ASUS ExpertBook B1 B1502CBA-EJ0436X Intel Core...    New    Asus   \n",
       "1  Alurin Go Start Intel Celeron N4020/8GB/256GB ...    New  Alurin   \n",
       "2  ASUS ExpertBook B1 B1502CBA-EJ0424X Intel Core...    New    Asus   \n",
       "3  MSI Katana GF66 12UC-082XES Intel Core i7-1270...    New     MSI   \n",
       "4  HP 15S-FQ5085NS Intel Core i5-1235U/16GB/512GB...    New      HP   \n",
       "\n",
       "        model            cpu  ram  storage storage_type       gpu  screen  \\\n",
       "0  ExpertBook  Intel Core i5    8      512          SSD       NaN    15.6   \n",
       "1          Go  Intel Celeron    8      256          SSD       NaN    15.6   \n",
       "2  ExpertBook  Intel Core i3    8      256          SSD       NaN    15.6   \n",
       "3      Katana  Intel Core i7   16     1000          SSD  RTX 3050    15.6   \n",
       "4         15S  Intel Core i5   16      512          SSD       NaN    15.6   \n",
       "\n",
       "  touch  final_price  \n",
       "0    No      1009.00  \n",
       "1    No       299.00  \n",
       "2    No       789.00  \n",
       "3    No      1199.00  \n",
       "4    No       669.01  "
      ]
     },
     "execution_count": 4,
     "metadata": {},
     "output_type": "execute_result"
    }
   ],
   "source": [
    "df.head()"
   ]
  },
  {
   "cell_type": "code",
   "execution_count": 5,
   "id": "1f2d96b1-2e60-44a0-821d-5fcd0819df33",
   "metadata": {},
   "outputs": [
    {
     "data": {
      "text/html": [
       "<div>\n",
       "<style scoped>\n",
       "    .dataframe tbody tr th:only-of-type {\n",
       "        vertical-align: middle;\n",
       "    }\n",
       "\n",
       "    .dataframe tbody tr th {\n",
       "        vertical-align: top;\n",
       "    }\n",
       "\n",
       "    .dataframe thead th {\n",
       "        text-align: right;\n",
       "    }\n",
       "</style>\n",
       "<table border=\"1\" class=\"dataframe\">\n",
       "  <thead>\n",
       "    <tr style=\"text-align: right;\">\n",
       "      <th></th>\n",
       "      <th>ram</th>\n",
       "      <th>storage</th>\n",
       "      <th>screen</th>\n",
       "      <th>final_price</th>\n",
       "    </tr>\n",
       "  </thead>\n",
       "  <tbody>\n",
       "    <tr>\n",
       "      <th>0</th>\n",
       "      <td>8</td>\n",
       "      <td>512</td>\n",
       "      <td>15.6</td>\n",
       "      <td>1009.00</td>\n",
       "    </tr>\n",
       "    <tr>\n",
       "      <th>1</th>\n",
       "      <td>8</td>\n",
       "      <td>256</td>\n",
       "      <td>15.6</td>\n",
       "      <td>299.00</td>\n",
       "    </tr>\n",
       "    <tr>\n",
       "      <th>2</th>\n",
       "      <td>8</td>\n",
       "      <td>256</td>\n",
       "      <td>15.6</td>\n",
       "      <td>789.00</td>\n",
       "    </tr>\n",
       "    <tr>\n",
       "      <th>3</th>\n",
       "      <td>16</td>\n",
       "      <td>1000</td>\n",
       "      <td>15.6</td>\n",
       "      <td>1199.00</td>\n",
       "    </tr>\n",
       "    <tr>\n",
       "      <th>4</th>\n",
       "      <td>16</td>\n",
       "      <td>512</td>\n",
       "      <td>15.6</td>\n",
       "      <td>669.01</td>\n",
       "    </tr>\n",
       "  </tbody>\n",
       "</table>\n",
       "</div>"
      ],
      "text/plain": [
       "   ram  storage  screen  final_price\n",
       "0    8      512    15.6      1009.00\n",
       "1    8      256    15.6       299.00\n",
       "2    8      256    15.6       789.00\n",
       "3   16     1000    15.6      1199.00\n",
       "4   16      512    15.6       669.01"
      ]
     },
     "execution_count": 5,
     "metadata": {},
     "output_type": "execute_result"
    }
   ],
   "source": [
    "selected_columns = ['ram',\n",
    "'storage',\n",
    "'screen',\n",
    "'final_price']\n",
    "\n",
    "laptops= df[selected_columns]\n",
    "laptops.head()"
   ]
  },
  {
   "cell_type": "markdown",
   "id": "d8b3f931-d789-493d-9388-ed324f2e6733",
   "metadata": {},
   "source": [
    "### EDA\n",
    "\n",
    "* Look at the `final_price` variable. Does it have a long tail? "
   ]
  },
  {
   "cell_type": "code",
   "execution_count": 6,
   "id": "2de7875e-0ed8-450d-ac09-a5a87e255ab0",
   "metadata": {},
   "outputs": [
    {
     "data": {
      "text/plain": [
       "<Axes: xlabel='final_price', ylabel='Count'>"
      ]
     },
     "execution_count": 6,
     "metadata": {},
     "output_type": "execute_result"
    },
    {
     "data": {
      "image/png": "[encoded data removed]",
      "text/plain": [
       "<Figure size 640x480 with 1 Axes>"
      ]
     },
     "metadata": {},
     "output_type": "display_data"
    }
   ],
   "source": [
    "sns.histplot(laptops['final_price'], bins= 40, kde= True)"
   ]
  },
  {
   "cell_type": "markdown",
   "id": "46bb9a70-fea0-41e7-8e5a-f00abb7c63fd",
   "metadata": {},
   "source": [
    "The `final_price` column has a long-tail"
   ]
  },
  {
   "cell_type": "code",
   "execution_count": 7,
   "id": "4193b125-2d4d-4aec-bc07-2c1da4ffd857",
   "metadata": {},
   "outputs": [
    {
     "data": {
      "text/plain": [
       "count    2160.000000\n",
       "mean     1312.638509\n",
       "std       911.475417\n",
       "min       201.050000\n",
       "25%       661.082500\n",
       "50%      1031.945000\n",
       "75%      1708.970000\n",
       "max      7150.470000\n",
       "Name: final_price, dtype: float64"
      ]
     },
     "execution_count": 7,
     "metadata": {},
     "output_type": "execute_result"
    }
   ],
   "source": [
    "#statistical summary\n",
    "laptops.final_price.describe()"
   ]
  },
  {
   "cell_type": "code",
   "execution_count": 8,
   "id": "081dc5b3-0c9c-4462-9bc9-0e930048e376",
   "metadata": {},
   "outputs": [
    {
     "data": {
      "text/plain": [
       "<Axes: xlabel='final_price', ylabel='Count'>"
      ]
     },
     "execution_count": 8,
     "metadata": {},
     "output_type": "execute_result"
    },
    {
     "data": {
      "image/png": "[encoded data removed]",
      "text/plain": [
       "<Figure size 640x480 with 1 Axes>"
      ]
     },
     "metadata": {},
     "output_type": "display_data"
    }
   ],
   "source": [
    "sns.histplot(laptops.final_price[laptops.final_price > 1000], bins= 50, kde=True)"
   ]
  },
  {
   "cell_type": "code",
   "execution_count": 9,
   "id": "1b6c454e-d80b-4ffd-935e-6848d049b342",
   "metadata": {},
   "outputs": [
    {
     "data": {
      "text/plain": [
       "0       6.917706\n",
       "1       5.703782\n",
       "2       6.672033\n",
       "3       7.090077\n",
       "4       6.507293\n",
       "          ...   \n",
       "2155    7.901374\n",
       "2156    7.972807\n",
       "2157    8.131822\n",
       "2158    7.550130\n",
       "2159    7.438966\n",
       "Name: final_price, Length: 2160, dtype: float64"
      ]
     },
     "execution_count": 9,
     "metadata": {},
     "output_type": "execute_result"
    }
   ],
   "source": [
    "#transforming using log function into normal distribution\n",
    "price_log= np.log1p(laptops.final_price)\n",
    "price_log"
   ]
  },
  {
   "cell_type": "code",
   "execution_count": 10,
   "id": "10d06700-7009-4041-822c-7a5cf9499d77",
   "metadata": {},
   "outputs": [
    {
     "data": {
      "text/plain": [
       "<Axes: xlabel='final_price', ylabel='Count'>"
      ]
     },
     "execution_count": 10,
     "metadata": {},
     "output_type": "execute_result"
    },
    {
     "data": {
      "image/png": "[encoded data removed]",
      "text/plain": [
       "<Figure size 640x480 with 1 Axes>"
      ]
     },
     "metadata": {},
     "output_type": "display_data"
    }
   ],
   "source": [
    "#visualization of transformed histogram\n",
    "sns.histplot(price_log, bins=50, kde= True)"
   ]
  },
  {
   "cell_type": "markdown",
   "id": "8d34cc25-f6ba-4ba1-8ff3-0ae248d1b413",
   "metadata": {},
   "source": [
    "## Question 1\n",
    "\n",
    "There's one column with missing values. What is it?\n",
    "\n",
    "* `'ram'`\n",
    "* `'storage'`\n",
    "* `'screen'`\n",
    "* `'final_price'`\n"
   ]
  },
  {
   "cell_type": "code",
   "execution_count": 11,
   "id": "083a2284-96d1-410c-a2ee-c34de526d054",
   "metadata": {},
   "outputs": [
    {
     "data": {
      "text/plain": [
       "ram            0\n",
       "storage        0\n",
       "screen         4\n",
       "final_price    0\n",
       "dtype: int64"
      ]
     },
     "execution_count": 11,
     "metadata": {},
     "output_type": "execute_result"
    }
   ],
   "source": [
    "laptops.isnull().sum()"
   ]
  },
  {
   "cell_type": "markdown",
   "id": "414b3441-f228-4b0c-b224-f653b7b76ab9",
   "metadata": {},
   "source": [
    "The column `screen` has 4 missing values"
   ]
  },
  {
   "cell_type": "markdown",
   "id": "012db6d2-c26a-485f-9a56-12bcd5d41fe6",
   "metadata": {},
   "source": [
    "### Question 2\n",
    "\n",
    "What's the median (50% percentile) for variable `'ram'`?\n",
    "\n",
    "- 8\n",
    "- 16\n",
    "- 24\n",
    "- 32"
   ]
  },
  {
   "cell_type": "code",
   "execution_count": 12,
   "id": "592a263e-7d0e-4ea4-b116-471e3c3a8470",
   "metadata": {},
   "outputs": [
    {
     "data": {
      "text/plain": [
       "count    2160.000000\n",
       "mean       15.413889\n",
       "std         9.867815\n",
       "min         4.000000\n",
       "25%         8.000000\n",
       "50%        16.000000\n",
       "75%        16.000000\n",
       "max       128.000000\n",
       "Name: ram, dtype: float64"
      ]
     },
     "execution_count": 12,
     "metadata": {},
     "output_type": "execute_result"
    }
   ],
   "source": [
    "laptops.ram.describe()"
   ]
  },
  {
   "cell_type": "code",
   "execution_count": 13,
   "id": "92c21d58-725f-4dc3-a8d5-e7d26c456f7d",
   "metadata": {},
   "outputs": [
    {
     "name": "stdout",
     "output_type": "stream",
     "text": [
      "16.0\n"
     ]
    }
   ],
   "source": [
    "median= laptops.ram.median()\n",
    "print(median)"
   ]
  },
  {
   "cell_type": "markdown",
   "id": "38b0846d-2728-40b1-ae02-a33455a014ca",
   "metadata": {},
   "source": [
    "Median for variable `ram` is 16.0"
   ]
  },
  {
   "cell_type": "markdown",
   "id": "3e5f0931-798e-447e-b996-4dbc28f9e633",
   "metadata": {},
   "source": [
    "### Prepare and split the dataset\n",
    "\n",
    "* Shuffle the dataset (the filtered one you created above), use seed `42`.\n",
    "* Split your data in train/val/test sets, with 60%/20%/20% distribution.\n",
    "\n",
    "Use the same code as in the lectures\n"
   ]
  },
  {
   "cell_type": "code",
   "execution_count": 14,
   "id": "d37c921e-5f70-4404-ac59-628b1c780934",
   "metadata": {},
   "outputs": [],
   "source": [
    "def prepare_data(laptops, seed):\n",
    "    # Shuffle the initial dataset using given seed value\n",
    "    np.random.seed(42)\n",
    "\n",
    "    n = len(df)\n",
    "    idx = np.arange(n)\n",
    "    np.random.shuffle(idx)\n",
    "\n",
    "    laptops_shuffled = laptops.iloc[idx]\n",
    "\n",
    "    # Split data in train/val/test sets, with 60%/20%/20% distribution\n",
    "    n_test = int(0.2 * n)\n",
    "    n_val = int(0.2 * n)\n",
    "    n_train = n - (n_val + n_test)\n",
    "\n",
    "    laptops_train = laptops_shuffled.iloc[:n_train].copy()\n",
    "    laptops_val = laptops_shuffled.iloc[n_train:n_train + n_val].copy()\n",
    "    laptops_test = laptops_shuffled.iloc[n_train + n_val:].copy()\n",
    "\n",
    "    #y_train_original = laptops_train[\"final_price\"].values\n",
    "    #y_val_original = laptops_val[\"final_price\"].values\n",
    "    #y_test_original = laptops_test[\"final_price\"].values\n",
    "\n",
    "\n",
    "    # Apply the log transformation to the final_price variable using the np.log1p() function.\n",
    "    y_train = np.log1p(laptops_train['final_price'].values)\n",
    "    y_val = np.log1p(laptops_val['final_price'].values)\n",
    "    y_test = np.log1p(laptops_test['final_price'].values)\n",
    "\n",
    "    # Make sure that the target value (' final_price') is not in the dataframe\n",
    "    del laptops_train['final_price']\n",
    "    del laptops_val['final_price']\n",
    "    del laptops_test['final_price']\n",
    "    return laptops_train, laptops_val, laptops_test, y_train, y_val, y_test "
   ]
  },
  {
   "cell_type": "code",
   "execution_count": 15,
   "id": "a0225a64-d745-4690-a2d0-5e8dc122e091",
   "metadata": {},
   "outputs": [],
   "source": [
    "laptops_train, laptops_val, laptops_test, y_train, y_val, y_test = prepare_data(laptops, 42)"
   ]
  },
  {
   "cell_type": "markdown",
   "id": "3bd8404a-cb39-42a8-9b31-5039ab575525",
   "metadata": {},
   "source": [
    "### Question 3\n",
    "\n",
    "* We need to deal with missing values for the column from Q1.\n",
    "* We have two options: fill it with 0 or with the mean of this variable.\n",
    "* Try both options. For each, train a linear regression model without regularization using the code from the lessons.\n",
    "* For computing the mean, use the training only!\n",
    "* Use the validation dataset to evaluate the models and compare the RMSE of each option.\n",
    "* Round the RMSE scores to 2 decimal digits using `round(score, 2)`\n",
    "* Which option gives better RMSE?\n",
    "\n",
    "Options:\n",
    "\n",
    "- With 0\n",
    "- With mean\n",
    "- Both are equally good"
   ]
  },
  {
   "cell_type": "code",
   "execution_count": 16,
   "id": "f5daec63-816d-4a95-9cc8-d44a49561baf",
   "metadata": {},
   "outputs": [],
   "source": [
    "def train_linear_regression(X, y):\n",
    "    ones = np.ones(X.shape[0])\n",
    "    X = np.column_stack([ones, X])\n",
    "\n",
    "    XTX = X.T.dot(X)\n",
    "    XTX_inv = np.linalg.inv(XTX)\n",
    "    w = XTX_inv.dot(X.T).dot(y)\n",
    "    \n",
    "    return w[0], w[1:]"
   ]
  },
  {
   "cell_type": "code",
   "execution_count": 17,
   "id": "3f9edf23-4175-40c3-b5d8-1a818ffe5619",
   "metadata": {},
   "outputs": [],
   "source": [
    "def prepare_X(laptops, missing_val_alt):\n",
    "    laptops= laptops.fillna(missing_val_alt)\n",
    "    X = laptops.values\n",
    "    return X"
   ]
  },
  {
   "cell_type": "code",
   "execution_count": 18,
   "id": "07d0b8ff-e731-4a61-8705-0d0f9b9bc6cd",
   "metadata": {},
   "outputs": [],
   "source": [
    "def rmse(y, y_pred):\n",
    "    error = y_pred - y\n",
    "    mse = (error ** 2).mean()\n",
    "    return np.sqrt(mse)"
   ]
  },
  {
   "cell_type": "code",
   "execution_count": 19,
   "id": "3f01662f-081f-49c0-bce9-7d0be1f6a9b5",
   "metadata": {},
   "outputs": [
    {
     "name": "stdout",
     "output_type": "stream",
     "text": [
      "RMSE: 0.43\n"
     ]
    }
   ],
   "source": [
    "# Prepare the data\n",
    "X_train, X_val, X_test, y_train, y_val, y_test = prepare_data(laptops, seed=42)\n",
    "\n",
    "# Prepare X for training (fill missing values with 0)\n",
    "X_train = prepare_X(X_train, 0)\n",
    "\n",
    "# Train the model\n",
    "w_0, w = train_linear_regression(X_train, y_train)\n",
    "\n",
    "# Prepare validation data and make predictions\n",
    "X_val = prepare_X(X_val, 0)\n",
    "y_pred = w_0 + X_val.dot(w)\n",
    "rmse_value= rmse(y_val, y_pred).round(2)\n",
    "\n",
    "print(f\"RMSE: {rmse_value}\")"
   ]
  },
  {
   "cell_type": "code",
   "execution_count": 20,
   "id": "235f8473-fd0f-472a-a408-33842cfbf70e",
   "metadata": {},
   "outputs": [
    {
     "name": "stdout",
     "output_type": "stream",
     "text": [
      "RMSE: 0.43\n"
     ]
    }
   ],
   "source": [
    "# First, prepare the data using the prepare_data function\n",
    "laptops_train, laptops_val, laptops_test, y_train, y_val, y_test = prepare_data(laptops, seed=42)\n",
    "\n",
    "# Calculate the mean of 'screen' from the training data\n",
    "mean = laptops_train['screen'].mean()\n",
    "\n",
    "# Prepare X_train, filling missing values with the calculated mean\n",
    "X_train = prepare_X(laptops_train, mean)\n",
    "\n",
    "# Train the linear regression model\n",
    "w_0, w = train_linear_regression(X_train, y_train)\n",
    "\n",
    "# Prepare X_val, using the same mean from the training data\n",
    "X_val = prepare_X(laptops_val, mean)\n",
    "\n",
    "# Make predictions on the validation set\n",
    "y_pred = w_0 + X_val.dot(w)\n",
    "\n",
    "# Calculate and round the RMSE\n",
    "rmse_value = rmse(y_val, y_pred).round(2)\n",
    "\n",
    "print(f\"RMSE: {rmse_value}\")\n"
   ]
  },
  {
   "cell_type": "markdown",
   "id": "2e16270a-cf61-4e7f-938c-ac82bf7ea278",
   "metadata": {},
   "source": [
    "Both are the same so both are equally good"
   ]
  },
  {
   "cell_type": "markdown",
   "id": "00a83681-ab7e-422e-b02d-27704b26a40f",
   "metadata": {},
   "source": [
    "### Question 4\n",
    "\n",
    "* Now let's train a regularized linear regression.\n",
    "* For this question, fill the NAs with 0. \n",
    "* Try different values of `r` from this list: `[0, 0.01, 0.1, 1, 5, 10, 100]`.\n",
    "* Use RMSE to evaluate the model on the validation dataset.\n",
    "* Round the RMSE scores to 2 decimal digits.\n",
    "* Which `r` gives the best RMSE?\n",
    "\n",
    "If there are multiple options, select the smallest `r`.\n",
    "\n",
    "Options:\n",
    "\n",
    "- 0\n",
    "- 0.01\n",
    "- 1\n",
    "- 10\n",
    "- 100"
   ]
  },
  {
   "cell_type": "code",
   "execution_count": 21,
   "id": "e3d9c9a0-fddd-4b3a-8bb6-a62816a8ef3d",
   "metadata": {},
   "outputs": [],
   "source": [
    "def train_linear_regression_reg(X, y, r=0.0):\n",
    "    ones = np.ones(X.shape[0])\n",
    "    X = np.column_stack([ones, X])\n",
    "\n",
    "    XTX = X.T.dot(X)\n",
    "    reg = r * np.eye(XTX.shape[0])\n",
    "    XTX = XTX + reg\n",
    "\n",
    "    XTX_inv = np.linalg.inv(XTX)\n",
    "    w = XTX_inv.dot(X.T).dot(y)\n",
    "    \n",
    "    return w[0], w[1:]"
   ]
  },
  {
   "cell_type": "code",
   "execution_count": 22,
   "id": "e9897578-8754-4778-96f0-8073ce459300",
   "metadata": {},
   "outputs": [
    {
     "name": "stdout",
     "output_type": "stream",
     "text": [
      "For r =     0, RMSE = 0.43\n",
      "For r = 1e-06, RMSE = 0.43\n",
      "For r = 0.0001, RMSE = 0.43\n",
      "For r = 0.001, RMSE = 0.43\n",
      "For r =  0.01, RMSE = 0.43\n",
      "For r =   0.1, RMSE = 0.43\n",
      "For r =     1, RMSE = 0.43\n",
      "For r =     5, RMSE = 0.46\n",
      "For r =    10, RMSE = 0.51\n"
     ]
    }
   ],
   "source": [
    "# First, prepare the data using the prepare_data function\n",
    "laptops_train, laptops_val, laptops_test, y_train, y_val, y_test = prepare_data(laptops, seed=42)\n",
    "\n",
    "# Prepare X_train, filling missing values with 0\n",
    "X_train = prepare_X(laptops_train, 0)\n",
    "\n",
    "# Loop through different regularization values\n",
    "for r in [0, 0.000001, 0.0001, 0.001, 0.01, 0.1, 1, 5, 10]:\n",
    "    # Train the regularized linear regression model\n",
    "    w_0, w = train_linear_regression_reg(X_train, y_train, r=r)\n",
    "    \n",
    "    # Prepare X_val, filling missing values with 0\n",
    "    X_val = prepare_X(laptops_val, 0)\n",
    "    \n",
    "    # Make predictions on the validation set\n",
    "    y_pred = w_0 + X_val.dot(w)\n",
    "    \n",
    "    # Calculate and print RMSE for each regularization value\n",
    "    print(\"For r = %5s, RMSE = %.2f\" % (r, rmse(y_val, y_pred).round(2)))"
   ]
  },
  {
   "cell_type": "markdown",
   "id": "5b6a2aad-486e-4d04-978b-e7600e4be669",
   "metadata": {},
   "source": [
    "The best `rsme` is 0.43 which corresponds with r=0"
   ]
  },
  {
   "cell_type": "markdown",
   "id": "907e8766-0db9-4785-a966-d490d611e5bf",
   "metadata": {},
   "source": [
    "### Question 5 \n",
    "\n",
    "* We used seed 42 for splitting the data. Let's find out how selecting the seed influences our score.\n",
    "* Try different seed values: `[0, 1, 2, 3, 4, 5, 6, 7, 8, 9]`.\n",
    "* For each seed, do the train/validation/test split with 60%/20%/20% distribution.\n",
    "* Fill the missing values with 0 and train a model without regularization.\n",
    "* For each seed, evaluate the model on the validation dataset and collect the RMSE scores. \n",
    "* What's the standard deviation of all the scores? To compute the standard deviation, use `np.std`.\n",
    "* Round the result to 3 decimal digits (`round(std, 3)`)\n",
    "\n",
    "What's the value of std?\n",
    "\n",
    "- 19.176\n",
    "- 29.176\n",
    "- 39.176\n",
    "- 49.176\n",
    "> Note: Standard deviation shows how different the values are.\n",
    "> If it's low, then all values are approximately the same.\n",
    "> If it's high, the values are different. \n",
    "> If standard deviation of scores is low, then our model is *stable*."
   ]
  },
  {
   "cell_type": "code",
   "execution_count": 23,
   "id": "292c2f53-64af-4d43-a903-d46b104099bd",
   "metadata": {},
   "outputs": [
    {
     "name": "stdout",
     "output_type": "stream",
     "text": [
      "Mean RMSE across 10 seeds: 589.54\n",
      "Standard deviation of RMSE: 29.18\n"
     ]
    }
   ],
   "source": [
    "seeds = [0, 1, 2, 3, 4, 5, 6, 7, 8, 9]\n",
    "rmse_scores = []\n",
    "for s in seeds:\n",
    "    \n",
    "    n = len(df)\n",
    "    n_val = int(0.2 * n)\n",
    "    n_test = int(0.2 * n)\n",
    "    n_train = n - n_val - n_test\n",
    "\n",
    "    np.random.seed(s)\n",
    "\n",
    "    idx = np.arange(n)\n",
    "    np.random.shuffle(idx)\n",
    "\n",
    "    laptops_shuffled = laptops.iloc[idx]\n",
    "\n",
    "    laptops_train = laptops_shuffled.iloc[:n_train].copy()\n",
    "    laptops_val = laptops_shuffled.iloc[n_train:n_train + n_val].copy()\n",
    "    laptops_test = laptops_shuffled.iloc[n_train + n_val:].copy()\n",
    "\n",
    "    #y_train_original = laptops_train[\"final_price\"].values\n",
    "    #y_val_original = laptops_val[\"final_price\"].values\n",
    "    #y_test_original = laptops_test[\"final_price\"].values\n",
    "\n",
    "\n",
    "    # Apply the log transformation to the price variable using the np.log1p() function.\n",
    "    y_train = laptops_train['final_price'].values\n",
    "    y_val = laptops_val['final_price'].values\n",
    "    y_test = laptops_test['final_price'].values\n",
    "\n",
    "    # Make sure that the target value ('price') is not in the dataframe\n",
    "    del laptops_train['final_price']\n",
    "    del laptops_val['final_price']\n",
    "    del laptops_test['final_price']\n",
    "\n",
    "    #Prepare X_train, filling missing values with 0\n",
    "    X_train = prepare_X(laptops_train, 0)\n",
    "    \n",
    "    # Train the linear regression model\n",
    "    w_0, w = train_linear_regression(X_train, y_train)\n",
    "\n",
    "    # Prepare X_val, filling missing values with 0\n",
    "    X_val = prepare_X(laptops_val, 0)\n",
    "    \n",
    "    # Make predictions on the validation set\n",
    "    y_pred = w_0 + X_val.dot(w)\n",
    "    \n",
    "    # Calculate RMSE and append to the scores list\n",
    "    rmse_scores.append(rmse(y_val, y_pred))\n",
    "\n",
    "# Calculate and print the mean RMSE\n",
    "mean_rmse = np.mean(rmse_scores)\n",
    "print(f\"Mean RMSE across {len(seeds)} seeds: {mean_rmse:.2f}\")\n",
    "\n",
    "# Calculate and print the standard deviation of RMSE\n",
    "std_rmse = np.std(rmse_scores).round(3)\n",
    "print(f\"Standard deviation of RMSE: {std_rmse:.2f}\")"
   ]
  },
  {
   "cell_type": "markdown",
   "id": "9c0b6554-eaaf-4d0d-8eea-7bdd4e0e346b",
   "metadata": {},
   "source": [
    "### Question 6\n",
    "\n",
    "* Split the dataset like previously, use seed 9.\n",
    "* Combine train and validation datasets.\n",
    "* Fill the missing values with 0 and train a model with `r=0.001`. \n",
    "* What's the RMSE on the test dataset?\n",
    "\n",
    "Options:\n",
    "\n",
    "- 598.60\n",
    "- 608.60\n",
    "- 618.60\n",
    "- 628.60"
   ]
  },
  {
   "cell_type": "code",
   "execution_count": 24,
   "id": "07b07216-a47d-4f95-9512-13cc046130bc",
   "metadata": {},
   "outputs": [
    {
     "name": "stdout",
     "output_type": "stream",
     "text": [
      "RMSE on test set: 608.61\n"
     ]
    }
   ],
   "source": [
    "seeds = [0, 1, 2, 3, 4, 5, 6, 7, 8, 9]\n",
    "rmse_scores = []\n",
    "for s in seeds:\n",
    "    \n",
    "    n = len(df)\n",
    "    n_val = int(0.2 * n)\n",
    "    n_test = int(0.2 * n)\n",
    "    n_train = n - n_val - n_test\n",
    "\n",
    "    np.random.seed(9)\n",
    "\n",
    "    idx = np.arange(n)\n",
    "    np.random.shuffle(idx)\n",
    "\n",
    "    laptops_shuffled = laptops.iloc[idx]\n",
    "\n",
    "    laptops_train = laptops_shuffled.iloc[:n_train].copy()\n",
    "    laptops_val = laptops_shuffled.iloc[n_train:n_train + n_val].copy()\n",
    "    laptops_test = laptops_shuffled.iloc[n_train + n_val:].copy()\n",
    "\n",
    "    #y_train_original = laptops_train[\"final_price\"].values\n",
    "    #y_val_original = laptops_val[\"final_price\"].values\n",
    "    #y_test_original = laptops_test[\"final_price\"].values\n",
    "\n",
    "\n",
    "    # Apply the log transformation to the price variable using the np.log1p() function.\n",
    "    y_train = laptops_train['final_price'].values\n",
    "    y_val = laptops_val['final_price'].values\n",
    "    y_test = laptops_test['final_price'].values\n",
    "\n",
    "    # Make sure that the target value ('price') is not in the dataframe\n",
    "    del laptops_train['final_price']\n",
    "    del laptops_val['final_price']\n",
    "    del laptops_test['final_price']\n",
    "\n",
    "    # Combine train and validation datasets\n",
    "laptops_train_combined = pd.concat([laptops_train, laptops_val])\n",
    "y_train_combined = np.concatenate((y_train, y_val), axis=0)\n",
    "\n",
    "# Prepare X_train_combined, filling missing values with 0\n",
    "X_train_combined = prepare_X(laptops_train_combined, 0)\n",
    "\n",
    "# Train the regularized linear regression model\n",
    "w_0, w = train_linear_regression_reg(X_train_combined, y_train_combined, r=0.001)\n",
    "\n",
    "# Prepare X_test, filling missing values with 0\n",
    "X_test = prepare_X(laptops_test, 0)\n",
    "\n",
    "# Make predictions on the test set\n",
    "y_pred = w_0 + X_test.dot(w)\n",
    "\n",
    "# Calculate and print RMSE\n",
    "rmse_value = rmse(y_test, y_pred).round(2)\n",
    "print(f\"RMSE on test set: {rmse_value}\")"
   ]
  },
  {
   "cell_type": "markdown",
   "id": "c58aed66-be75-403a-9b11-9dd1669f260d",
   "metadata": {},
   "source": [
    "The RMSE on test set is 608.61"
   ]
  },
  {
   "cell_type": "code",
   "execution_count": null,
   "id": "6ba586f9-85c9-4d78-87e9-1bdc0dae5611",
   "metadata": {},
   "outputs": [],
   "source": []
  }
 ],
 "metadata": {
  "kernelspec": {
   "display_name": "Python 3 (ipykernel)",
   "language": "python",
   "name": "python3"
  },
  "language_info": {
   "codemirror_mode": {
    "name": "ipython",
    "version": 3
   },
   "file_extension": ".py",
   "mimetype": "text/x-python",
   "name": "python",
   "nbconvert_exporter": "python",
   "pygments_lexer": "ipython3",
   "version": "3.11.10"
  }
 },
 "nbformat": 4,
 "nbformat_minor": 5
}
