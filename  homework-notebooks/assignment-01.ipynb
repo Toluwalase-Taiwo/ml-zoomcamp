{
 "cells": [
  {
   "cell_type": "code",
   "execution_count": 1,
   "id": "9c670f5c-250b-4d94-9ef8-746c2da860c2",
   "metadata": {},
   "outputs": [],
   "source": [
    "#importing necessary libraries\n",
    "import pandas as pd\n",
    "import numpy as np"
   ]
  },
  {
   "cell_type": "markdown",
   "id": "a91dbbb5-2be8-49bb-a51e-5a70720a8f5b",
   "metadata": {},
   "source": [
    "### Q1: What's the version of Pandas that you installed?"
   ]
  },
  {
   "cell_type": "code",
   "execution_count": 2,
   "id": "827901e1-8a74-44cb-b360-cd1bb5d33a13",
   "metadata": {},
   "outputs": [
    {
     "data": {
      "text/plain": [
       "'2.2.3'"
      ]
     },
     "execution_count": 2,
     "metadata": {},
     "output_type": "execute_result"
    }
   ],
   "source": [
    "pd.__version__"
   ]
  },
  {
   "cell_type": "raw",
   "id": "e8a70668-0f85-4bf9-b45d-bf174f878f1a",
   "metadata": {},
   "source": [
    "The version of Pandas installed is version 2.2.3"
   ]
  },
  {
   "cell_type": "code",
   "execution_count": 3,
   "id": "0b0ce506-9c5b-46a9-a386-66ab8e5f4223",
   "metadata": {},
   "outputs": [
    {
     "data": {
      "text/html": [
       "<div>\n",
       "<style scoped>\n",
       "    .dataframe tbody tr th:only-of-type {\n",
       "        vertical-align: middle;\n",
       "    }\n",
       "\n",
       "    .dataframe tbody tr th {\n",
       "        vertical-align: top;\n",
       "    }\n",
       "\n",
       "    .dataframe thead th {\n",
       "        text-align: right;\n",
       "    }\n",
       "</style>\n",
       "<table border=\"1\" class=\"dataframe\">\n",
       "  <thead>\n",
       "    <tr style=\"text-align: right;\">\n",
       "      <th></th>\n",
       "      <th>Laptop</th>\n",
       "      <th>Status</th>\n",
       "      <th>Brand</th>\n",
       "      <th>Model</th>\n",
       "      <th>CPU</th>\n",
       "      <th>RAM</th>\n",
       "      <th>Storage</th>\n",
       "      <th>Storage type</th>\n",
       "      <th>GPU</th>\n",
       "      <th>Screen</th>\n",
       "      <th>Touch</th>\n",
       "      <th>Final Price</th>\n",
       "    </tr>\n",
       "  </thead>\n",
       "  <tbody>\n",
       "    <tr>\n",
       "      <th>0</th>\n",
       "      <td>ASUS ExpertBook B1 B1502CBA-EJ0436X Intel Core...</td>\n",
       "      <td>New</td>\n",
       "      <td>Asus</td>\n",
       "      <td>ExpertBook</td>\n",
       "      <td>Intel Core i5</td>\n",
       "      <td>8</td>\n",
       "      <td>512</td>\n",
       "      <td>SSD</td>\n",
       "      <td>NaN</td>\n",
       "      <td>15.6</td>\n",
       "      <td>No</td>\n",
       "      <td>1009.00</td>\n",
       "    </tr>\n",
       "    <tr>\n",
       "      <th>1</th>\n",
       "      <td>Alurin Go Start Intel Celeron N4020/8GB/256GB ...</td>\n",
       "      <td>New</td>\n",
       "      <td>Alurin</td>\n",
       "      <td>Go</td>\n",
       "      <td>Intel Celeron</td>\n",
       "      <td>8</td>\n",
       "      <td>256</td>\n",
       "      <td>SSD</td>\n",
       "      <td>NaN</td>\n",
       "      <td>15.6</td>\n",
       "      <td>No</td>\n",
       "      <td>299.00</td>\n",
       "    </tr>\n",
       "    <tr>\n",
       "      <th>2</th>\n",
       "      <td>ASUS ExpertBook B1 B1502CBA-EJ0424X Intel Core...</td>\n",
       "      <td>New</td>\n",
       "      <td>Asus</td>\n",
       "      <td>ExpertBook</td>\n",
       "      <td>Intel Core i3</td>\n",
       "      <td>8</td>\n",
       "      <td>256</td>\n",
       "      <td>SSD</td>\n",
       "      <td>NaN</td>\n",
       "      <td>15.6</td>\n",
       "      <td>No</td>\n",
       "      <td>789.00</td>\n",
       "    </tr>\n",
       "    <tr>\n",
       "      <th>3</th>\n",
       "      <td>MSI Katana GF66 12UC-082XES Intel Core i7-1270...</td>\n",
       "      <td>New</td>\n",
       "      <td>MSI</td>\n",
       "      <td>Katana</td>\n",
       "      <td>Intel Core i7</td>\n",
       "      <td>16</td>\n",
       "      <td>1000</td>\n",
       "      <td>SSD</td>\n",
       "      <td>RTX 3050</td>\n",
       "      <td>15.6</td>\n",
       "      <td>No</td>\n",
       "      <td>1199.00</td>\n",
       "    </tr>\n",
       "    <tr>\n",
       "      <th>4</th>\n",
       "      <td>HP 15S-FQ5085NS Intel Core i5-1235U/16GB/512GB...</td>\n",
       "      <td>New</td>\n",
       "      <td>HP</td>\n",
       "      <td>15S</td>\n",
       "      <td>Intel Core i5</td>\n",
       "      <td>16</td>\n",
       "      <td>512</td>\n",
       "      <td>SSD</td>\n",
       "      <td>NaN</td>\n",
       "      <td>15.6</td>\n",
       "      <td>No</td>\n",
       "      <td>669.01</td>\n",
       "    </tr>\n",
       "    <tr>\n",
       "      <th>5</th>\n",
       "      <td>MSI Crosshair 17 C12VF-264XES Intel Core i7-12...</td>\n",
       "      <td>New</td>\n",
       "      <td>MSI</td>\n",
       "      <td>Crosshair</td>\n",
       "      <td>Intel Core i7</td>\n",
       "      <td>32</td>\n",
       "      <td>1000</td>\n",
       "      <td>SSD</td>\n",
       "      <td>RTX 4060</td>\n",
       "      <td>17.3</td>\n",
       "      <td>No</td>\n",
       "      <td>1699.00</td>\n",
       "    </tr>\n",
       "    <tr>\n",
       "      <th>6</th>\n",
       "      <td>Lenovo Thinkpad E14 Gen 4 AMD Ryzen 5 5625U/8G...</td>\n",
       "      <td>New</td>\n",
       "      <td>Lenovo</td>\n",
       "      <td>ThinkPad</td>\n",
       "      <td>AMD Ryzen 5</td>\n",
       "      <td>8</td>\n",
       "      <td>256</td>\n",
       "      <td>SSD</td>\n",
       "      <td>NaN</td>\n",
       "      <td>14.0</td>\n",
       "      <td>No</td>\n",
       "      <td>909.00</td>\n",
       "    </tr>\n",
       "    <tr>\n",
       "      <th>7</th>\n",
       "      <td>ASUS VivoBook 15 F515JA-EJ2882W Intel Core i7-...</td>\n",
       "      <td>New</td>\n",
       "      <td>Asus</td>\n",
       "      <td>VivoBook</td>\n",
       "      <td>Intel Core i7</td>\n",
       "      <td>8</td>\n",
       "      <td>512</td>\n",
       "      <td>SSD</td>\n",
       "      <td>NaN</td>\n",
       "      <td>15.6</td>\n",
       "      <td>No</td>\n",
       "      <td>809.01</td>\n",
       "    </tr>\n",
       "    <tr>\n",
       "      <th>8</th>\n",
       "      <td>Medion Akoya E15415 Intel Core i5-10210U/8GB/2...</td>\n",
       "      <td>New</td>\n",
       "      <td>Medion</td>\n",
       "      <td>Akoya</td>\n",
       "      <td>Intel Core i5</td>\n",
       "      <td>8</td>\n",
       "      <td>256</td>\n",
       "      <td>SSD</td>\n",
       "      <td>NaN</td>\n",
       "      <td>15.6</td>\n",
       "      <td>No</td>\n",
       "      <td>519.00</td>\n",
       "    </tr>\n",
       "    <tr>\n",
       "      <th>9</th>\n",
       "      <td>HP Victus 16-d1038ns Intel Core i7-12700H/16GB...</td>\n",
       "      <td>New</td>\n",
       "      <td>HP</td>\n",
       "      <td>Victus</td>\n",
       "      <td>Intel Core i7</td>\n",
       "      <td>16</td>\n",
       "      <td>512</td>\n",
       "      <td>SSD</td>\n",
       "      <td>RTX 3050</td>\n",
       "      <td>16.1</td>\n",
       "      <td>No</td>\n",
       "      <td>1149.00</td>\n",
       "    </tr>\n",
       "  </tbody>\n",
       "</table>\n",
       "</div>"
      ],
      "text/plain": [
       "                                              Laptop Status   Brand  \\\n",
       "0  ASUS ExpertBook B1 B1502CBA-EJ0436X Intel Core...    New    Asus   \n",
       "1  Alurin Go Start Intel Celeron N4020/8GB/256GB ...    New  Alurin   \n",
       "2  ASUS ExpertBook B1 B1502CBA-EJ0424X Intel Core...    New    Asus   \n",
       "3  MSI Katana GF66 12UC-082XES Intel Core i7-1270...    New     MSI   \n",
       "4  HP 15S-FQ5085NS Intel Core i5-1235U/16GB/512GB...    New      HP   \n",
       "5  MSI Crosshair 17 C12VF-264XES Intel Core i7-12...    New     MSI   \n",
       "6  Lenovo Thinkpad E14 Gen 4 AMD Ryzen 5 5625U/8G...    New  Lenovo   \n",
       "7  ASUS VivoBook 15 F515JA-EJ2882W Intel Core i7-...    New    Asus   \n",
       "8  Medion Akoya E15415 Intel Core i5-10210U/8GB/2...    New  Medion   \n",
       "9  HP Victus 16-d1038ns Intel Core i7-12700H/16GB...    New      HP   \n",
       "\n",
       "        Model            CPU  RAM  Storage Storage type       GPU  Screen  \\\n",
       "0  ExpertBook  Intel Core i5    8      512          SSD       NaN    15.6   \n",
       "1          Go  Intel Celeron    8      256          SSD       NaN    15.6   \n",
       "2  ExpertBook  Intel Core i3    8      256          SSD       NaN    15.6   \n",
       "3      Katana  Intel Core i7   16     1000          SSD  RTX 3050    15.6   \n",
       "4         15S  Intel Core i5   16      512          SSD       NaN    15.6   \n",
       "5   Crosshair  Intel Core i7   32     1000          SSD  RTX 4060    17.3   \n",
       "6    ThinkPad    AMD Ryzen 5    8      256          SSD       NaN    14.0   \n",
       "7    VivoBook  Intel Core i7    8      512          SSD       NaN    15.6   \n",
       "8       Akoya  Intel Core i5    8      256          SSD       NaN    15.6   \n",
       "9      Victus  Intel Core i7   16      512          SSD  RTX 3050    16.1   \n",
       "\n",
       "  Touch  Final Price  \n",
       "0    No      1009.00  \n",
       "1    No       299.00  \n",
       "2    No       789.00  \n",
       "3    No      1199.00  \n",
       "4    No       669.01  \n",
       "5    No      1699.00  \n",
       "6    No       909.00  \n",
       "7    No       809.01  \n",
       "8    No       519.00  \n",
       "9    No      1149.00  "
      ]
     },
     "execution_count": 3,
     "metadata": {},
     "output_type": "execute_result"
    }
   ],
   "source": [
    "# Loading the dataset\n",
    "Laptops= pd.read_csv('Laptops Price.csv')\n",
    "Laptops.head(10)"
   ]
  },
  {
   "cell_type": "markdown",
   "id": "acab83de-7644-48d9-935d-a41f58f26093",
   "metadata": {},
   "source": [
    "### Q2. Records count \n",
    "#### How many records are in the dataset?"
   ]
  },
  {
   "cell_type": "code",
   "execution_count": 4,
   "id": "fc2fb9c9-1627-4242-860f-f0096000adb1",
   "metadata": {},
   "outputs": [
    {
     "data": {
      "text/plain": [
       "2160"
      ]
     },
     "execution_count": 4,
     "metadata": {},
     "output_type": "execute_result"
    }
   ],
   "source": [
    "#Counting the number of records\n",
    "Laptops.shape[0]"
   ]
  },
  {
   "cell_type": "markdown",
   "id": "e08fcad0-5fa6-494b-a1db-a0373155c49a",
   "metadata": {},
   "source": [
    "Columns are called Fields in a dataset while rows are called Records. The total number of record count is equal to the total number of Rows in the dataset hence, there are 2160 records in the dataset"
   ]
  },
  {
   "cell_type": "markdown",
   "id": "5d133f66-f382-4607-9a39-1a949057feb8",
   "metadata": {},
   "source": [
    "### Q3. Laptop brands\n",
    "\n",
    "#### How many laptop brands are presented in the dataset?"
   ]
  },
  {
   "cell_type": "code",
   "execution_count": 5,
   "id": "1c565fcb-6886-40cc-a225-8e4770c502f4",
   "metadata": {},
   "outputs": [
    {
     "data": {
      "text/plain": [
       "Brand\n",
       "Asus                415\n",
       "HP                  368\n",
       "Lenovo              366\n",
       "MSI                 308\n",
       "Acer                137\n",
       "Apple               116\n",
       "Dell                 84\n",
       "Microsoft            77\n",
       "Gigabyte             48\n",
       "Razer                37\n",
       "Medion               32\n",
       "LG                   32\n",
       "Alurin               29\n",
       "PcCom                24\n",
       "Samsung              22\n",
       "Dynabook Toshiba     19\n",
       "Vant                 11\n",
       "Primux                8\n",
       "Deep Gaming           8\n",
       "Innjoo                6\n",
       "Thomson               4\n",
       "Prixton               3\n",
       "Millenium             2\n",
       "Denver                1\n",
       "Jetwing               1\n",
       "Realme                1\n",
       "Toshiba               1\n",
       "Name: count, dtype: int64"
      ]
     },
     "execution_count": 5,
     "metadata": {},
     "output_type": "execute_result"
    }
   ],
   "source": [
    "Laptops['Brand'].value_counts()"
   ]
  },
  {
   "cell_type": "code",
   "execution_count": 6,
   "id": "ef2213b7-2cd2-49eb-8909-fbd23cc657e2",
   "metadata": {},
   "outputs": [
    {
     "data": {
      "text/plain": [
       "27"
      ]
     },
     "execution_count": 6,
     "metadata": {},
     "output_type": "execute_result"
    }
   ],
   "source": [
    "#Counting the number of Laptop Brands\n",
    "Laptops['Brand'].nunique()"
   ]
  },
  {
   "cell_type": "markdown",
   "id": "d1e786a8-10ae-48d6-99a9-dd5a5f52b3e5",
   "metadata": {},
   "source": [
    "There is a total of 27 `Laptop brands` in the dataset"
   ]
  },
  {
   "cell_type": "markdown",
   "id": "a6d2741f-9702-4fec-ab20-51060e8d164c",
   "metadata": {},
   "source": [
    "### Q4. Missing values\n",
    "#### How many columns in the dataset have missing values?"
   ]
  },
  {
   "cell_type": "code",
   "execution_count": 7,
   "id": "d1f989d6-00d9-40f3-a2a2-65b6662c2b88",
   "metadata": {},
   "outputs": [
    {
     "data": {
      "text/plain": [
       "3"
      ]
     },
     "execution_count": 7,
     "metadata": {},
     "output_type": "execute_result"
    }
   ],
   "source": [
    "(Laptops.isnull().sum() !=0).sum()"
   ]
  },
  {
   "cell_type": "code",
   "execution_count": 8,
   "id": "e7981651-51a8-4332-ac91-e06ac3d06ba3",
   "metadata": {},
   "outputs": [
    {
     "data": {
      "text/plain": [
       "Laptop             0\n",
       "Status             0\n",
       "Brand              0\n",
       "Model              0\n",
       "CPU                0\n",
       "RAM                0\n",
       "Storage            0\n",
       "Storage type      42\n",
       "GPU             1371\n",
       "Screen             4\n",
       "Touch              0\n",
       "Final Price        0\n",
       "dtype: int64"
      ]
     },
     "execution_count": 8,
     "metadata": {},
     "output_type": "execute_result"
    }
   ],
   "source": [
    "Laptops.isnull().sum()"
   ]
  },
  {
   "cell_type": "markdown",
   "id": "680b6b63-50d9-4fd8-8856-70c81971d3e6",
   "metadata": {},
   "source": [
    "Three columns have missing values. `Storage type`, `GPU` and `Screen` columns."
   ]
  },
  {
   "cell_type": "markdown",
   "id": "090ab70d-7e37-41f6-8cce-db4051aa4685",
   "metadata": {},
   "source": [
    "### Q5. Maximum final price\n",
    "#### What's the maximum final price of Dell notebooks in the dataset?"
   ]
  },
  {
   "cell_type": "code",
   "execution_count": 9,
   "id": "1dfb9336-3bd9-4349-b17e-351c6aca275f",
   "metadata": {},
   "outputs": [
    {
     "data": {
      "text/html": [
       "<div>\n",
       "<style scoped>\n",
       "    .dataframe tbody tr th:only-of-type {\n",
       "        vertical-align: middle;\n",
       "    }\n",
       "\n",
       "    .dataframe tbody tr th {\n",
       "        vertical-align: top;\n",
       "    }\n",
       "\n",
       "    .dataframe thead th {\n",
       "        text-align: right;\n",
       "    }\n",
       "</style>\n",
       "<table border=\"1\" class=\"dataframe\">\n",
       "  <thead>\n",
       "    <tr style=\"text-align: right;\">\n",
       "      <th></th>\n",
       "      <th>Laptop</th>\n",
       "      <th>Status</th>\n",
       "      <th>Brand</th>\n",
       "      <th>Model</th>\n",
       "      <th>CPU</th>\n",
       "      <th>RAM</th>\n",
       "      <th>Storage</th>\n",
       "      <th>Storage type</th>\n",
       "      <th>GPU</th>\n",
       "      <th>Screen</th>\n",
       "      <th>Touch</th>\n",
       "      <th>Final Price</th>\n",
       "    </tr>\n",
       "  </thead>\n",
       "  <tbody>\n",
       "    <tr>\n",
       "      <th>161</th>\n",
       "      <td>Dell Vostro 3510 Intel Core i3-1115G4/8 GB/256...</td>\n",
       "      <td>New</td>\n",
       "      <td>Dell</td>\n",
       "      <td>Vostro</td>\n",
       "      <td>Intel Core i3</td>\n",
       "      <td>8</td>\n",
       "      <td>256</td>\n",
       "      <td>SSD</td>\n",
       "      <td>NaN</td>\n",
       "      <td>15.6</td>\n",
       "      <td>No</td>\n",
       "      <td>599.00</td>\n",
       "    </tr>\n",
       "    <tr>\n",
       "      <th>271</th>\n",
       "      <td>Dell Vostro 3510 Intel Core i5-1135G7/8 GB/256...</td>\n",
       "      <td>New</td>\n",
       "      <td>Dell</td>\n",
       "      <td>Vostro</td>\n",
       "      <td>Intel Core i5</td>\n",
       "      <td>8</td>\n",
       "      <td>256</td>\n",
       "      <td>SSD</td>\n",
       "      <td>NaN</td>\n",
       "      <td>15.6</td>\n",
       "      <td>No</td>\n",
       "      <td>690.15</td>\n",
       "    </tr>\n",
       "    <tr>\n",
       "      <th>281</th>\n",
       "      <td>Dell Vostro 3520 Intel Core i7-1255U/16GB/512G...</td>\n",
       "      <td>New</td>\n",
       "      <td>Dell</td>\n",
       "      <td>Vostro</td>\n",
       "      <td>Intel Core i7</td>\n",
       "      <td>16</td>\n",
       "      <td>512</td>\n",
       "      <td>SSD</td>\n",
       "      <td>NaN</td>\n",
       "      <td>15.6</td>\n",
       "      <td>No</td>\n",
       "      <td>889.00</td>\n",
       "    </tr>\n",
       "    <tr>\n",
       "      <th>319</th>\n",
       "      <td>Dell Latitude 3520 Intel Core i5-1135G7/8GB/25...</td>\n",
       "      <td>New</td>\n",
       "      <td>Dell</td>\n",
       "      <td>Latitude</td>\n",
       "      <td>Intel Core i5</td>\n",
       "      <td>8</td>\n",
       "      <td>256</td>\n",
       "      <td>SSD</td>\n",
       "      <td>NaN</td>\n",
       "      <td>15.6</td>\n",
       "      <td>No</td>\n",
       "      <td>789.00</td>\n",
       "    </tr>\n",
       "    <tr>\n",
       "      <th>328</th>\n",
       "      <td>Dell Vostro 3510 Intel Core i5-1135G7/16 GB/51...</td>\n",
       "      <td>New</td>\n",
       "      <td>Dell</td>\n",
       "      <td>Vostro</td>\n",
       "      <td>Intel Core i5</td>\n",
       "      <td>16</td>\n",
       "      <td>512</td>\n",
       "      <td>SSD</td>\n",
       "      <td>NaN</td>\n",
       "      <td>15.6</td>\n",
       "      <td>No</td>\n",
       "      <td>869.00</td>\n",
       "    </tr>\n",
       "  </tbody>\n",
       "</table>\n",
       "</div>"
      ],
      "text/plain": [
       "                                                Laptop Status Brand     Model  \\\n",
       "161  Dell Vostro 3510 Intel Core i3-1115G4/8 GB/256...    New  Dell    Vostro   \n",
       "271  Dell Vostro 3510 Intel Core i5-1135G7/8 GB/256...    New  Dell    Vostro   \n",
       "281  Dell Vostro 3520 Intel Core i7-1255U/16GB/512G...    New  Dell    Vostro   \n",
       "319  Dell Latitude 3520 Intel Core i5-1135G7/8GB/25...    New  Dell  Latitude   \n",
       "328  Dell Vostro 3510 Intel Core i5-1135G7/16 GB/51...    New  Dell    Vostro   \n",
       "\n",
       "               CPU  RAM  Storage Storage type  GPU  Screen Touch  Final Price  \n",
       "161  Intel Core i3    8      256          SSD  NaN    15.6    No       599.00  \n",
       "271  Intel Core i5    8      256          SSD  NaN    15.6    No       690.15  \n",
       "281  Intel Core i7   16      512          SSD  NaN    15.6    No       889.00  \n",
       "319  Intel Core i5    8      256          SSD  NaN    15.6    No       789.00  \n",
       "328  Intel Core i5   16      512          SSD  NaN    15.6    No       869.00  "
      ]
     },
     "execution_count": 9,
     "metadata": {},
     "output_type": "execute_result"
    }
   ],
   "source": [
    "Laptops[Laptops['Brand']== 'Dell'].head()"
   ]
  },
  {
   "cell_type": "code",
   "execution_count": 10,
   "id": "fe86e5c6-e6d2-4ada-bdad-2aa742a11373",
   "metadata": {},
   "outputs": [
    {
     "data": {
      "text/plain": [
       "3936.0"
      ]
     },
     "execution_count": 10,
     "metadata": {},
     "output_type": "execute_result"
    }
   ],
   "source": [
    "Laptops[Laptops['Brand'] == 'Dell']['Final Price'].max()"
   ]
  },
  {
   "cell_type": "markdown",
   "id": "b596d880-7752-4eb0-a336-61291fe769f3",
   "metadata": {},
   "source": [
    "The maximum final Price of `Dell` notebooks is 3936"
   ]
  },
  {
   "cell_type": "markdown",
   "id": "5c200089-4078-4ec8-8d06-ed752b224cc0",
   "metadata": {},
   "source": [
    "### Q6. Median value of Screen\n",
    "\n",
    "1. Find the median value of `Screen` column in the dataset.\n",
    "2. Next, calculate the most frequent value of the same `Screen` column.\n",
    "3. Use `fillna` method to fill the missing values in `Screen` column with the most frequent value from the previous step.\n",
    "4. Now, calculate the median value of `Screen` once again.\n",
    "\n",
    "Has it changed?\n",
    "\n",
    "> Hint: refer to existing `mode` and `median` functions to complete the task.\n",
    "\n",
    "- Yes\n",
    "- No"
   ]
  },
  {
   "cell_type": "code",
   "execution_count": 11,
   "id": "249e8dc9-6314-4efe-9c11-f6f5d8ba691a",
   "metadata": {},
   "outputs": [
    {
     "data": {
      "text/plain": [
       "Screen\n",
       "15.60    1009\n",
       "14.00     392\n",
       "16.00     174\n",
       "17.30     161\n",
       "13.30     131\n",
       "16.10      48\n",
       "17.00      33\n",
       "13.00      27\n",
       "15.00      21\n",
       "13.50      19\n",
       "13.40      19\n",
       "11.60      16\n",
       "14.20      14\n",
       "12.30      13\n",
       "14.10      11\n",
       "13.60      11\n",
       "16.20      10\n",
       "15.30       8\n",
       "10.50       7\n",
       "14.40       6\n",
       "12.40       6\n",
       "15.40       5\n",
       "12.00       4\n",
       "18.00       3\n",
       "14.50       3\n",
       "13.90       2\n",
       "12.50       1\n",
       "10.10       1\n",
       "10.95       1\n",
       "Name: count, dtype: int64"
      ]
     },
     "execution_count": 11,
     "metadata": {},
     "output_type": "execute_result"
    }
   ],
   "source": [
    "Laptops['Screen'].value_counts()"
   ]
  },
  {
   "cell_type": "code",
   "execution_count": 12,
   "id": "0a988ff7-d93b-4dd0-b0da-921bcb472ae1",
   "metadata": {},
   "outputs": [
    {
     "data": {
      "text/plain": [
       "15.6"
      ]
     },
     "execution_count": 12,
     "metadata": {},
     "output_type": "execute_result"
    }
   ],
   "source": [
    "#median value\n",
    "median_screen= Laptops['Screen'].median()\n",
    "median_screen"
   ]
  },
  {
   "cell_type": "code",
   "execution_count": 13,
   "id": "112ad99d-4f51-456c-b4b3-52dcaaa082fc",
   "metadata": {},
   "outputs": [
    {
     "data": {
      "text/plain": [
       "15.6"
      ]
     },
     "execution_count": 13,
     "metadata": {},
     "output_type": "execute_result"
    }
   ],
   "source": [
    "#most frequent value\n",
    "modal_screen= Laptops['Screen'].mode()[0]\n",
    "modal_screen"
   ]
  },
  {
   "cell_type": "code",
   "execution_count": 14,
   "id": "145bec47-1120-47e5-94c8-b76c3d75ac3e",
   "metadata": {},
   "outputs": [
    {
     "data": {
      "text/plain": [
       "15.6"
      ]
     },
     "execution_count": 14,
     "metadata": {},
     "output_type": "execute_result"
    }
   ],
   "source": [
    "Laptops['Screen'].fillna(modal_screen).median()"
   ]
  },
  {
   "cell_type": "markdown",
   "id": "22d3fab9-dac8-47d7-b9a3-950afc55a8b3",
   "metadata": {},
   "source": [
    "No, the median remains unchanged"
   ]
  },
  {
   "cell_type": "markdown",
   "id": "d1c4839b-7340-4064-8577-6cdde3a68068",
   "metadata": {},
   "source": [
    "### Q7. Sum of weights\n",
    "\n",
    "1. Select all the \"Innjoo\" laptops from the dataset.\n",
    "2. Select only columns `RAM`, `Storage`, `Screen`.\n",
    "3. Get the underlying NumPy array. Let's call it `X`.\n",
    "4. Compute matrix-matrix multiplication between the transpose of `X` and `X`. To get the transpose, use `X.T`. Let's call the result `XTX`.\n",
    "5. Compute the inverse of `XTX`.\n",
    "6. Create an array `y` with values `[1100, 1300, 800, 900, 1000, 1100]`.\n",
    "7. Multiply the inverse of `XTX` with the transpose of `X`, and then multiply the result by `y`. Call the result `w`.\n",
    "8. What's the sum of all the elements of the result?\n",
    "\n",
    "> **Note**: You just implemented linear regression. We'll talk about it in the next lesson.\n",
    "\n",
    "- 0.43\n",
    "- 45.29\n",
    "- 45.58\n",
    "- 91.30"
   ]
  },
  {
   "cell_type": "code",
   "execution_count": 15,
   "id": "859784ed-4b1b-45a6-9cb9-a223bf428c89",
   "metadata": {},
   "outputs": [
    {
     "data": {
      "text/html": [
       "<div>\n",
       "<style scoped>\n",
       "    .dataframe tbody tr th:only-of-type {\n",
       "        vertical-align: middle;\n",
       "    }\n",
       "\n",
       "    .dataframe tbody tr th {\n",
       "        vertical-align: top;\n",
       "    }\n",
       "\n",
       "    .dataframe thead th {\n",
       "        text-align: right;\n",
       "    }\n",
       "</style>\n",
       "<table border=\"1\" class=\"dataframe\">\n",
       "  <thead>\n",
       "    <tr style=\"text-align: right;\">\n",
       "      <th></th>\n",
       "      <th>RAM</th>\n",
       "      <th>Storage</th>\n",
       "      <th>Screen</th>\n",
       "    </tr>\n",
       "  </thead>\n",
       "  <tbody>\n",
       "    <tr>\n",
       "      <th>1478</th>\n",
       "      <td>8</td>\n",
       "      <td>256</td>\n",
       "      <td>15.6</td>\n",
       "    </tr>\n",
       "    <tr>\n",
       "      <th>1479</th>\n",
       "      <td>8</td>\n",
       "      <td>512</td>\n",
       "      <td>15.6</td>\n",
       "    </tr>\n",
       "    <tr>\n",
       "      <th>1480</th>\n",
       "      <td>4</td>\n",
       "      <td>64</td>\n",
       "      <td>14.1</td>\n",
       "    </tr>\n",
       "    <tr>\n",
       "      <th>1481</th>\n",
       "      <td>6</td>\n",
       "      <td>64</td>\n",
       "      <td>14.1</td>\n",
       "    </tr>\n",
       "    <tr>\n",
       "      <th>1482</th>\n",
       "      <td>6</td>\n",
       "      <td>128</td>\n",
       "      <td>14.1</td>\n",
       "    </tr>\n",
       "  </tbody>\n",
       "</table>\n",
       "</div>"
      ],
      "text/plain": [
       "      RAM  Storage  Screen\n",
       "1478    8      256    15.6\n",
       "1479    8      512    15.6\n",
       "1480    4       64    14.1\n",
       "1481    6       64    14.1\n",
       "1482    6      128    14.1"
      ]
     },
     "execution_count": 15,
     "metadata": {},
     "output_type": "execute_result"
    }
   ],
   "source": [
    "Innjoo_df= Laptops[Laptops['Brand']== 'Innjoo'].head()\n",
    "Innjoo_df= Innjoo_df[['RAM','Storage','Screen']]\n",
    "Innjoo_df"
   ]
  },
  {
   "cell_type": "code",
   "execution_count": 16,
   "id": "d2a44b8b-aa9d-4fc4-8a15-7cdae9524c28",
   "metadata": {},
   "outputs": [
    {
     "data": {
      "text/plain": [
       "array([[  8. , 256. ,  15.6],\n",
       "       [  8. , 512. ,  15.6],\n",
       "       [  4. ,  64. ,  14.1],\n",
       "       [  6. ,  64. ,  14.1],\n",
       "       [  6. , 128. ,  14.1]])"
      ]
     },
     "execution_count": 16,
     "metadata": {},
     "output_type": "execute_result"
    }
   ],
   "source": [
    "X= Innjoo_df.to_numpy()\n",
    "X"
   ]
  },
  {
   "cell_type": "code",
   "execution_count": 17,
   "id": "0ff43caf-d339-49bd-8c28-d93162cc7f9f",
   "metadata": {},
   "outputs": [
    {
     "data": {
      "text/plain": [
       "array([[2.16000e+02, 7.55200e+03, 4.75200e+02],\n",
       "       [7.55200e+03, 3.52256e+05, 1.55904e+04],\n",
       "       [4.75200e+02, 1.55904e+04, 1.08315e+03]])"
      ]
     },
     "execution_count": 17,
     "metadata": {},
     "output_type": "execute_result"
    }
   ],
   "source": [
    "XTX= X.T @ X\n",
    "XTX"
   ]
  },
  {
   "cell_type": "code",
   "execution_count": 18,
   "id": "5055961a-bde6-464f-821e-baafabee4f2a",
   "metadata": {},
   "outputs": [
    {
     "data": {
      "text/plain": [
       "array([[ 2.81442446e-01, -1.56768809e-03, -1.00909907e-01],\n",
       "       [-1.56768809e-03,  1.65537172e-05,  4.49509585e-04],\n",
       "       [-1.00909907e-01,  4.49509585e-04,  3.87244183e-02]])"
      ]
     },
     "execution_count": 18,
     "metadata": {},
     "output_type": "execute_result"
    }
   ],
   "source": [
    "XTX_inv = np.linalg.inv(XTX)\n",
    "XTX_inv"
   ]
  },
  {
   "cell_type": "code",
   "execution_count": 19,
   "id": "97ae3aa6-0acf-4a5a-aad9-0370964a1d50",
   "metadata": {},
   "outputs": [
    {
     "data": {
      "text/plain": [
       "array([1100, 1300,  800,  900, 1000, 1100])"
      ]
     },
     "execution_count": 19,
     "metadata": {},
     "output_type": "execute_result"
    }
   ],
   "source": [
    "y= np.array([1100, 1300, 800, 900, 1000, 1100])\n",
    "y"
   ]
  },
  {
   "cell_type": "code",
   "execution_count": null,
   "id": "b952037f-1838-404d-a9c2-683a02842fca",
   "metadata": {},
   "outputs": [],
   "source": []
  }
 ],
 "metadata": {
  "kernelspec": {
   "display_name": "Python 3 (ipykernel)",
   "language": "python",
   "name": "python3"
  },
  "language_info": {
   "codemirror_mode": {
    "name": "ipython",
    "version": 3
   },
   "file_extension": ".py",
   "mimetype": "text/x-python",
   "name": "python",
   "nbconvert_exporter": "python",
   "pygments_lexer": "ipython3",
   "version": "3.11.7"
  }
 },
 "nbformat": 4,
 "nbformat_minor": 5
}
