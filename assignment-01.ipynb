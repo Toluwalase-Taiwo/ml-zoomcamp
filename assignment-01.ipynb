{
 "cells": [
  {
   "cell_type": "markdown",
   "id": "5e82d52d-ecd2-446f-ae6c-ea5eaedc070e",
   "metadata": {},
   "source": [
    "The assignment needed\n"
   ]
  },
  {
   "cell_type": "code",
   "execution_count": null,
   "id": "9c670f5c-250b-4d94-9ef8-746c2da860c2",
   "metadata": {},
   "outputs": [],
   "source": []
  }
 ],
 "metadata": {
  "kernelspec": {
   "display_name": "Python 3 (ipykernel)",
   "language": "python",
   "name": "python3"
  },
  "language_info": {
   "codemirror_mode": {
    "name": "ipython",
    "version": 3
   },
   "file_extension": ".py",
   "mimetype": "text/x-python",
   "name": "python",
   "nbconvert_exporter": "python",
   "pygments_lexer": "ipython3",
   "version": "3.11.10"
  }
 },
 "nbformat": 4,
 "nbformat_minor": 5
}
