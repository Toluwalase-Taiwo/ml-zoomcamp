{
 "cells": [
  {
   "cell_type": "code",
   "execution_count": null,
   "id": "f8c9c863-0bcf-4ca3-8ec9-a652ba138a9a",
   "metadata": {},
   "outputs": [],
   "source": []
  }
 ],
 "metadata": {
  "kernelspec": {
   "display_name": "",
   "name": ""
  },
  "language_info": {
   "name": ""
  }
 },
 "nbformat": 4,
 "nbformat_minor": 5
}
