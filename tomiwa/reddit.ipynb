{
 "cells": [
  {
   "cell_type": "code",
   "execution_count": 1,
   "id": "77ef6045-57d1-4eb8-9fd5-6cb0d1855f48",
   "metadata": {},
   "outputs": [
    {
     "name": "stdout",
     "output_type": "stream",
     "text": [
      "Requirement already satisfied: python-dotenv in c:\\users\\toluwalase\\anaconda3\\lib\\site-packages (0.21.0)\n"
     ]
    }
   ],
   "source": [
    "!pip install python-dotenv"
   ]
  },
  {
   "cell_type": "code",
   "execution_count": 2,
   "id": "42a29981-06d8-446c-adf0-07d5f76c9a3c",
   "metadata": {},
   "outputs": [],
   "source": [
    "import os\n",
    "from dotenv import load_dotenv\n",
    "\n",
    "# Load environment variables from .env file\n",
    "load_dotenv()\n",
    "\n",
    "# Access the credentials\n",
    "client_id = os.getenv(\"REDDIT_CLIENT_ID\")\n",
    "client_secret = os.getenv(\"REDDIT_CLIENT_SECRET\")\n",
    "user_agent = os.getenv(\"REDDIT_USER_AGENT\")\n",
    "username = os.getenv(\"REDDIT_USERNAME\")\n",
    "password = os.getenv(\"REDDIT_PASSWORD\")"
   ]
  },
  {
   "cell_type": "code",
   "execution_count": 3,
   "id": "9cb5621e-0ea4-476f-9222-563171280238",
   "metadata": {},
   "outputs": [
    {
     "name": "stdout",
     "output_type": "stream",
     "text": [
      "✅ Done. File saved: canadian_housing_reddit.csv\n"
     ]
    }
   ],
   "source": [
    "import praw\n",
    "import requests\n",
    "import pandas as pd\n",
    "from datetime import datetime\n",
    "\n",
    "# Reddit API credentials\n",
    "    \n",
    "reddit = praw.Reddit(\n",
    "    client_id=client_id,\n",
    "    client_secret=client_secret,\n",
    "    user_agent=user_agent,\n",
    "    username=username,\n",
    "    password=password\n",
    ")\n",
    "\n",
    "# Get historical posts from Pushshift\n",
    "def get_pushshift_data(query, subreddits, after, before, size=150):\n",
    "    url = \"https://api.pushshift.io/reddit/search/submission/\"\n",
    "    posts = []\n",
    "\n",
    "    for subreddit in subreddits:\n",
    "        params = {\n",
    "            \"q\": query,\n",
    "            \"subreddit\": subreddit,\n",
    "            \"after\": after,\n",
    "            \"before\": before,\n",
    "            \"size\": size,\n",
    "            \"sort\": \"desc\"\n",
    "        }\n",
    "        res = requests.get(url, params=params)\n",
    "        if res.status_code == 200:\n",
    "            for post in res.json()[\"data\"]:\n",
    "                posts.append({\n",
    "                    \"title\": post.get(\"title\", \"\"),\n",
    "                    \"text\": post.get(\"selftext\", \"\"),\n",
    "                    \"subreddit\": subreddit,\n",
    "                    \"date\": datetime.fromtimestamp(post[\"created_utc\"]),\n",
    "                    \"url\": post.get(\"url\", \"\"),\n",
    "                    \"score\": post.get(\"score\", 0)\n",
    "                })\n",
    "    return posts\n",
    "\n",
    "# Get recent posts from Reddit (PRAW)\n",
    "def get_recent_posts(query, subreddits, limit=100):\n",
    "    posts = []\n",
    "    for subreddit in subreddits:\n",
    "        for post in reddit.subreddit(subreddit).search(query, limit=limit):\n",
    "            posts.append({\n",
    "                \"title\": post.title,\n",
    "                \"text\": post.selftext,\n",
    "                \"subreddit\": subreddit,\n",
    "                \"date\": datetime.fromtimestamp(post.created_utc),\n",
    "                \"url\": post.url,\n",
    "                \"score\": post.score\n",
    "            })\n",
    "    return posts\n",
    "\n",
    "# Search settings\n",
    "query = \"canadian housing OR house prices OR rent\"\n",
    "subs = [\"CanadaHousing\", \"TorontoRealEstate\", \"Vancouver\", \"PersonalFinanceCanada\"]\n",
    "after = \"2023-01-01\"\n",
    "before = \"2024-12-31\"\n",
    "\n",
    "# Run and save\n",
    "all_data = get_pushshift_data(query, subs, after, before)\n",
    "all_data += get_recent_posts(query, subs)\n",
    "pd.DataFrame(all_data).to_csv(\"canadian_housing_reddit.csv\", index=False)\n",
    "\n",
    "print(\" Done. File saved: canadian_housing_reddit.csv\")\n"
   ]
  },
  {
   "cell_type": "code",
   "execution_count": 5,
   "id": "19f60151-2c42-40e0-b63d-91bbf6986d9a",
   "metadata": {},
   "outputs": [
    {
     "data": {
      "text/html": [
       "<div>\n",
       "<style scoped>\n",
       "    .dataframe tbody tr th:only-of-type {\n",
       "        vertical-align: middle;\n",
       "    }\n",
       "\n",
       "    .dataframe tbody tr th {\n",
       "        vertical-align: top;\n",
       "    }\n",
       "\n",
       "    .dataframe thead th {\n",
       "        text-align: right;\n",
       "    }\n",
       "</style>\n",
       "<table border=\"1\" class=\"dataframe\">\n",
       "  <thead>\n",
       "    <tr style=\"text-align: right;\">\n",
       "      <th></th>\n",
       "      <th>title</th>\n",
       "      <th>text</th>\n",
       "      <th>subreddit</th>\n",
       "      <th>date</th>\n",
       "      <th>url</th>\n",
       "      <th>score</th>\n",
       "    </tr>\n",
       "  </thead>\n",
       "  <tbody>\n",
       "    <tr>\n",
       "      <th>0</th>\n",
       "      <td>“Generally speaking, Canada undertaxes housing...</td>\n",
       "      <td>[https://ricochet.media/en/3786/it-feels-hopel...</td>\n",
       "      <td>CanadaHousing</td>\n",
       "      <td>2021-09-22 19:44:12</td>\n",
       "      <td>https://www.reddit.com/r/canadahousing/comment...</td>\n",
       "      <td>794</td>\n",
       "    </tr>\n",
       "    <tr>\n",
       "      <th>1</th>\n",
       "      <td>Is there a Canadian city/town where you feel t...</td>\n",
       "      <td>Everywhere I look, I don't feel comfortable bu...</td>\n",
       "      <td>CanadaHousing</td>\n",
       "      <td>2024-02-15 14:03:05</td>\n",
       "      <td>https://www.reddit.com/r/canadahousing/comment...</td>\n",
       "      <td>117</td>\n",
       "    </tr>\n",
       "    <tr>\n",
       "      <th>2</th>\n",
       "      <td>This is the problem with Canadian Real-Estate,...</td>\n",
       "      <td>**Problem, in short:**\\n\\nThe Canadian real es...</td>\n",
       "      <td>CanadaHousing</td>\n",
       "      <td>2025-05-26 01:06:19</td>\n",
       "      <td>https://www.reddit.com/r/canadahousing/comment...</td>\n",
       "      <td>0</td>\n",
       "    </tr>\n",
       "    <tr>\n",
       "      <th>3</th>\n",
       "      <td>Canadian Real Estate will lead to a devastatin...</td>\n",
       "      <td>Anytime there’s a high frequency of fraud for ...</td>\n",
       "      <td>CanadaHousing</td>\n",
       "      <td>2022-04-21 20:29:33</td>\n",
       "      <td>https://www.reddit.com/r/canadahousing/comment...</td>\n",
       "      <td>298</td>\n",
       "    </tr>\n",
       "    <tr>\n",
       "      <th>4</th>\n",
       "      <td>Want to remove speculators from Canadian housi...</td>\n",
       "      <td>There is a solution, apart from increasing sup...</td>\n",
       "      <td>CanadaHousing</td>\n",
       "      <td>2021-11-23 21:46:14</td>\n",
       "      <td>https://www.reddit.com/r/canadahousing/comment...</td>\n",
       "      <td>344</td>\n",
       "    </tr>\n",
       "  </tbody>\n",
       "</table>\n",
       "</div>"
      ],
      "text/plain": [
       "                                               title  \\\n",
       "0  “Generally speaking, Canada undertaxes housing...   \n",
       "1  Is there a Canadian city/town where you feel t...   \n",
       "2  This is the problem with Canadian Real-Estate,...   \n",
       "3  Canadian Real Estate will lead to a devastatin...   \n",
       "4  Want to remove speculators from Canadian housi...   \n",
       "\n",
       "                                                text      subreddit  \\\n",
       "0  [https://ricochet.media/en/3786/it-feels-hopel...  CanadaHousing   \n",
       "1  Everywhere I look, I don't feel comfortable bu...  CanadaHousing   \n",
       "2  **Problem, in short:**\\n\\nThe Canadian real es...  CanadaHousing   \n",
       "3  Anytime there’s a high frequency of fraud for ...  CanadaHousing   \n",
       "4  There is a solution, apart from increasing sup...  CanadaHousing   \n",
       "\n",
       "                 date                                                url  \\\n",
       "0 2021-09-22 19:44:12  https://www.reddit.com/r/canadahousing/comment...   \n",
       "1 2024-02-15 14:03:05  https://www.reddit.com/r/canadahousing/comment...   \n",
       "2 2025-05-26 01:06:19  https://www.reddit.com/r/canadahousing/comment...   \n",
       "3 2022-04-21 20:29:33  https://www.reddit.com/r/canadahousing/comment...   \n",
       "4 2021-11-23 21:46:14  https://www.reddit.com/r/canadahousing/comment...   \n",
       "\n",
       "   score  \n",
       "0    794  \n",
       "1    117  \n",
       "2      0  \n",
       "3    298  \n",
       "4    344  "
      ]
     },
     "execution_count": 5,
     "metadata": {},
     "output_type": "execute_result"
    }
   ],
   "source": [
    "all_data = pd.DataFrame(all_data)\n",
    "\n",
    "all_data.head()"
   ]
  },
  {
   "cell_type": "code",
   "execution_count": 6,
   "id": "4b352b36-3497-4257-9cb2-0bf4f94b2af4",
   "metadata": {},
   "outputs": [
    {
     "data": {
      "text/plain": [
       "Index(['title', 'text', 'subreddit', 'date', 'url', 'score'], dtype='object')"
      ]
     },
     "execution_count": 6,
     "metadata": {},
     "output_type": "execute_result"
    }
   ],
   "source": [
    "all_data.columns"
   ]
  },
  {
   "cell_type": "code",
   "execution_count": 7,
   "id": "2f41ec8a-e859-4939-967e-ed476e3f99b0",
   "metadata": {},
   "outputs": [
    {
     "name": "stdout",
     "output_type": "stream",
     "text": [
      "<class 'pandas.core.frame.DataFrame'>\n",
      "RangeIndex: 400 entries, 0 to 399\n",
      "Data columns (total 6 columns):\n",
      " #   Column     Non-Null Count  Dtype         \n",
      "---  ------     --------------  -----         \n",
      " 0   title      400 non-null    object        \n",
      " 1   text       400 non-null    object        \n",
      " 2   subreddit  400 non-null    object        \n",
      " 3   date       400 non-null    datetime64[ns]\n",
      " 4   url        400 non-null    object        \n",
      " 5   score      400 non-null    int64         \n",
      "dtypes: datetime64[ns](1), int64(1), object(4)\n",
      "memory usage: 18.9+ KB\n"
     ]
    }
   ],
   "source": [
    "all_data.info()"
   ]
  },
  {
   "cell_type": "code",
   "execution_count": null,
   "id": "45192701-bacd-46ca-9892-87e5625dafdd",
   "metadata": {},
   "outputs": [],
   "source": []
  }
 ],
 "metadata": {
  "kernelspec": {
   "display_name": "Python 3 (ipykernel)",
   "language": "python",
   "name": "python3"
  },
  "language_info": {
   "codemirror_mode": {
    "name": "ipython",
    "version": 3
   },
   "file_extension": ".py",
   "mimetype": "text/x-python",
   "name": "python",
   "nbconvert_exporter": "python",
   "pygments_lexer": "ipython3",
   "version": "3.11.7"
  }
 },
 "nbformat": 4,
 "nbformat_minor": 5
}
